{
  "cells": [
    {
      "cell_type": "markdown",
      "metadata": {
        "id": "view-in-github",
        "colab_type": "text"
      },
      "source": [
        "<a href=\"https://colab.research.google.com/github/kishlayaug15/Convolutional-Neural-Network/blob/main/convolutional_neural_network.ipynb\" target=\"_parent\"><img src=\"https://colab.research.google.com/assets/colab-badge.svg\" alt=\"Open In Colab\"/></a>"
      ]
    },
    {
      "cell_type": "markdown",
      "metadata": {
        "id": "3DR-eO17geWu"
      },
      "source": [
        "# Convolutional Neural Network"
      ]
    },
    {
      "cell_type": "markdown",
      "metadata": {
        "id": "EMefrVPCg-60"
      },
      "source": [
        "### Importing the libraries"
      ]
    },
    {
      "cell_type": "code",
      "execution_count": 8,
      "metadata": {
        "id": "sCV30xyVhFbE"
      },
      "outputs": [],
      "source": [
        "import tensorflow as tf\n",
        "from keras.preprocessing.image import ImageDataGenerator"
      ]
    },
    {
      "cell_type": "code",
      "execution_count": 9,
      "metadata": {
        "colab": {
          "base_uri": "https://localhost:8080/",
          "height": 36
        },
        "id": "FIleuCAjoFD8",
        "outputId": "4e6ac0d0-e05d-417e-93fe-d052bbdbabb5"
      },
      "outputs": [
        {
          "output_type": "execute_result",
          "data": {
            "application/vnd.google.colaboratory.intrinsic+json": {
              "type": "string"
            },
            "text/plain": [
              "'2.7.0'"
            ]
          },
          "metadata": {},
          "execution_count": 9
        }
      ],
      "source": [
        "tf.__version__"
      ]
    },
    {
      "cell_type": "markdown",
      "metadata": {
        "id": "oxQxCBWyoGPE"
      },
      "source": [
        "## Part 1 - Data Preprocessing"
      ]
    },
    {
      "cell_type": "markdown",
      "metadata": {
        "id": "MvE-heJNo3GG"
      },
      "source": [
        "### Preprocessing the Training set"
      ]
    },
    {
      "cell_type": "code",
      "source": [
        "from zipfile import ZipFile\n",
        "file_name = '/content/dataset.zip'\n",
        "\n",
        "with ZipFile(file_name, 'r') as zip:\n",
        "  zip.extractall()\n",
        "  print('Done')"
      ],
      "metadata": {
        "colab": {
          "base_uri": "https://localhost:8080/"
        },
        "id": "FOb4029Jtkmg",
        "outputId": "ec708971-62d5-4880-91c8-84fc4eabfaa1"
      },
      "execution_count": 11,
      "outputs": [
        {
          "output_type": "stream",
          "name": "stdout",
          "text": [
            "Done\n"
          ]
        }
      ]
    },
    {
      "cell_type": "code",
      "execution_count": 12,
      "metadata": {
        "colab": {
          "base_uri": "https://localhost:8080/"
        },
        "id": "0koUcJMJpEBD",
        "outputId": "f04fa4bd-f7a0-421a-b5b9-f6f025782e56"
      },
      "outputs": [
        {
          "output_type": "stream",
          "name": "stdout",
          "text": [
            "Found 8000 images belonging to 2 classes.\n"
          ]
        }
      ],
      "source": [
        "train_datagen = ImageDataGenerator(rescale = 1./255,\n",
        "                                   shear_range = 0.2,\n",
        "                                   zoom_range = 0.2,\n",
        "                                   horizontal_flip = True)\n",
        "training_set = train_datagen.flow_from_directory('dataset/training_set',\n",
        "                                                 target_size = (64, 64),\n",
        "                                                 batch_size = 32,\n",
        "                                                 class_mode = 'binary')"
      ]
    },
    {
      "cell_type": "markdown",
      "metadata": {
        "id": "mrCMmGw9pHys"
      },
      "source": [
        "### Preprocessing the Test set"
      ]
    },
    {
      "cell_type": "code",
      "execution_count": 13,
      "metadata": {
        "id": "SH4WzfOhpKc3",
        "colab": {
          "base_uri": "https://localhost:8080/"
        },
        "outputId": "f571c49a-d83d-4a88-884d-b886e09fa88f"
      },
      "outputs": [
        {
          "output_type": "stream",
          "name": "stdout",
          "text": [
            "Found 2000 images belonging to 2 classes.\n"
          ]
        }
      ],
      "source": [
        "test_datagen = ImageDataGenerator(rescale = 1./255)\n",
        "test_set = test_datagen.flow_from_directory('dataset/test_set',\n",
        "                                            target_size = (64, 64),\n",
        "                                            batch_size = 32,\n",
        "                                            class_mode = 'binary')"
      ]
    },
    {
      "cell_type": "markdown",
      "metadata": {
        "id": "af8O4l90gk7B"
      },
      "source": [
        "## Part 2 - Building the CNN"
      ]
    },
    {
      "cell_type": "markdown",
      "metadata": {
        "id": "ces1gXY2lmoX"
      },
      "source": [
        "### Initialising the CNN"
      ]
    },
    {
      "cell_type": "code",
      "execution_count": 14,
      "metadata": {
        "id": "SAUt4UMPlhLS"
      },
      "outputs": [],
      "source": [
        "cnn = tf.keras.models.Sequential()"
      ]
    },
    {
      "cell_type": "markdown",
      "metadata": {
        "id": "u5YJj_XMl5LF"
      },
      "source": [
        "### Step 1 - Convolution"
      ]
    },
    {
      "cell_type": "code",
      "execution_count": 15,
      "metadata": {
        "id": "XPzPrMckl-hV"
      },
      "outputs": [],
      "source": [
        "cnn.add(tf.keras.layers.Conv2D(filters=32, kernel_size=3, activation='relu', input_shape=[64, 64, 3]))"
      ]
    },
    {
      "cell_type": "markdown",
      "metadata": {
        "id": "tf87FpvxmNOJ"
      },
      "source": [
        "### Step 2 - Pooling"
      ]
    },
    {
      "cell_type": "code",
      "execution_count": 16,
      "metadata": {
        "id": "ncpqPl69mOac"
      },
      "outputs": [],
      "source": [
        "cnn.add(tf.keras.layers.MaxPool2D(pool_size=2, strides=2))"
      ]
    },
    {
      "cell_type": "markdown",
      "metadata": {
        "id": "xaTOgD8rm4mU"
      },
      "source": [
        "### Adding a second convolutional layer"
      ]
    },
    {
      "cell_type": "code",
      "execution_count": 17,
      "metadata": {
        "id": "i_-FZjn_m8gk"
      },
      "outputs": [],
      "source": [
        "cnn.add(tf.keras.layers.Conv2D(filters=32, kernel_size=3, activation='relu'))\n",
        "cnn.add(tf.keras.layers.MaxPool2D(pool_size=2, strides=2))"
      ]
    },
    {
      "cell_type": "markdown",
      "metadata": {
        "id": "tmiEuvTunKfk"
      },
      "source": [
        "### Step 3 - Flattening"
      ]
    },
    {
      "cell_type": "code",
      "execution_count": 18,
      "metadata": {
        "id": "6AZeOGCvnNZn"
      },
      "outputs": [],
      "source": [
        "cnn.add(tf.keras.layers.Flatten())"
      ]
    },
    {
      "cell_type": "markdown",
      "metadata": {
        "id": "dAoSECOm203v"
      },
      "source": [
        "### Step 4 - Full Connection"
      ]
    },
    {
      "cell_type": "code",
      "execution_count": 19,
      "metadata": {
        "id": "8GtmUlLd26Nq"
      },
      "outputs": [],
      "source": [
        "cnn.add(tf.keras.layers.Dense(units=128, activation='relu'))"
      ]
    },
    {
      "cell_type": "markdown",
      "metadata": {
        "id": "yTldFvbX28Na"
      },
      "source": [
        "### Step 5 - Output Layer"
      ]
    },
    {
      "cell_type": "code",
      "execution_count": 20,
      "metadata": {
        "id": "1p_Zj1Mc3Ko_"
      },
      "outputs": [],
      "source": [
        "cnn.add(tf.keras.layers.Dense(units=1, activation='sigmoid'))"
      ]
    },
    {
      "cell_type": "markdown",
      "metadata": {
        "id": "D6XkI90snSDl"
      },
      "source": [
        "## Part 3 - Training the CNN"
      ]
    },
    {
      "cell_type": "markdown",
      "metadata": {
        "id": "vfrFQACEnc6i"
      },
      "source": [
        "### Compiling the CNN"
      ]
    },
    {
      "cell_type": "code",
      "execution_count": 21,
      "metadata": {
        "id": "NALksrNQpUlJ"
      },
      "outputs": [],
      "source": [
        "cnn.compile(optimizer = 'adam', loss = 'binary_crossentropy', metrics = ['accuracy'])"
      ]
    },
    {
      "cell_type": "markdown",
      "metadata": {
        "id": "ehS-v3MIpX2h"
      },
      "source": [
        "### Training the CNN on the Training set and evaluating it on the Test set"
      ]
    },
    {
      "cell_type": "code",
      "execution_count": 22,
      "metadata": {
        "id": "XUj1W4PJptta",
        "colab": {
          "base_uri": "https://localhost:8080/"
        },
        "outputId": "acc1c229-5a12-4916-f9bb-e9add677a430"
      },
      "outputs": [
        {
          "output_type": "stream",
          "name": "stdout",
          "text": [
            "Epoch 1/25\n",
            "250/250 [==============================] - 61s 240ms/step - loss: 0.6807 - accuracy: 0.5612 - val_loss: 0.6251 - val_accuracy: 0.6520\n",
            "Epoch 2/25\n",
            "250/250 [==============================] - 60s 238ms/step - loss: 0.6157 - accuracy: 0.6624 - val_loss: 0.6048 - val_accuracy: 0.6815\n",
            "Epoch 3/25\n",
            "250/250 [==============================] - 60s 239ms/step - loss: 0.5689 - accuracy: 0.7080 - val_loss: 0.5557 - val_accuracy: 0.7165\n",
            "Epoch 4/25\n",
            "250/250 [==============================] - 60s 238ms/step - loss: 0.5348 - accuracy: 0.7284 - val_loss: 0.5141 - val_accuracy: 0.7515\n",
            "Epoch 5/25\n",
            "250/250 [==============================] - 60s 238ms/step - loss: 0.5113 - accuracy: 0.7491 - val_loss: 0.5258 - val_accuracy: 0.7465\n",
            "Epoch 6/25\n",
            "250/250 [==============================] - 59s 237ms/step - loss: 0.4885 - accuracy: 0.7584 - val_loss: 0.4738 - val_accuracy: 0.7815\n",
            "Epoch 7/25\n",
            "250/250 [==============================] - 60s 238ms/step - loss: 0.4695 - accuracy: 0.7739 - val_loss: 0.5058 - val_accuracy: 0.7530\n",
            "Epoch 8/25\n",
            "250/250 [==============================] - 60s 239ms/step - loss: 0.4554 - accuracy: 0.7859 - val_loss: 0.4682 - val_accuracy: 0.7830\n",
            "Epoch 9/25\n",
            "250/250 [==============================] - 60s 238ms/step - loss: 0.4396 - accuracy: 0.7955 - val_loss: 0.4649 - val_accuracy: 0.7665\n",
            "Epoch 10/25\n",
            "250/250 [==============================] - 60s 238ms/step - loss: 0.4275 - accuracy: 0.7956 - val_loss: 0.4890 - val_accuracy: 0.7730\n",
            "Epoch 11/25\n",
            "250/250 [==============================] - 60s 241ms/step - loss: 0.4128 - accuracy: 0.8070 - val_loss: 0.4676 - val_accuracy: 0.7755\n",
            "Epoch 12/25\n",
            "250/250 [==============================] - 60s 238ms/step - loss: 0.3960 - accuracy: 0.8177 - val_loss: 0.4852 - val_accuracy: 0.7840\n",
            "Epoch 13/25\n",
            "250/250 [==============================] - 62s 246ms/step - loss: 0.3817 - accuracy: 0.8292 - val_loss: 0.4449 - val_accuracy: 0.7990\n",
            "Epoch 14/25\n",
            "250/250 [==============================] - 60s 239ms/step - loss: 0.3650 - accuracy: 0.8321 - val_loss: 0.4586 - val_accuracy: 0.7855\n",
            "Epoch 15/25\n",
            "250/250 [==============================] - 60s 240ms/step - loss: 0.3586 - accuracy: 0.8406 - val_loss: 0.5109 - val_accuracy: 0.7655\n",
            "Epoch 16/25\n",
            "250/250 [==============================] - 60s 239ms/step - loss: 0.3536 - accuracy: 0.8399 - val_loss: 0.4483 - val_accuracy: 0.7990\n",
            "Epoch 17/25\n",
            "250/250 [==============================] - 60s 240ms/step - loss: 0.3411 - accuracy: 0.8430 - val_loss: 0.4507 - val_accuracy: 0.7965\n",
            "Epoch 18/25\n",
            "250/250 [==============================] - 60s 240ms/step - loss: 0.3237 - accuracy: 0.8558 - val_loss: 0.5131 - val_accuracy: 0.7785\n",
            "Epoch 19/25\n",
            "250/250 [==============================] - 60s 239ms/step - loss: 0.3111 - accuracy: 0.8649 - val_loss: 0.4633 - val_accuracy: 0.7980\n",
            "Epoch 20/25\n",
            "250/250 [==============================] - 60s 240ms/step - loss: 0.2935 - accuracy: 0.8729 - val_loss: 0.4772 - val_accuracy: 0.8120\n",
            "Epoch 21/25\n",
            "250/250 [==============================] - 60s 240ms/step - loss: 0.2864 - accuracy: 0.8788 - val_loss: 0.4742 - val_accuracy: 0.8000\n",
            "Epoch 22/25\n",
            "250/250 [==============================] - 62s 246ms/step - loss: 0.2748 - accuracy: 0.8840 - val_loss: 0.4773 - val_accuracy: 0.8090\n",
            "Epoch 23/25\n",
            "250/250 [==============================] - 60s 241ms/step - loss: 0.2690 - accuracy: 0.8857 - val_loss: 0.5576 - val_accuracy: 0.7950\n",
            "Epoch 24/25\n",
            "250/250 [==============================] - 60s 241ms/step - loss: 0.2498 - accuracy: 0.8940 - val_loss: 0.4864 - val_accuracy: 0.8130\n",
            "Epoch 25/25\n",
            "250/250 [==============================] - 60s 240ms/step - loss: 0.2458 - accuracy: 0.8981 - val_loss: 0.5259 - val_accuracy: 0.8140\n"
          ]
        },
        {
          "output_type": "execute_result",
          "data": {
            "text/plain": [
              "<keras.callbacks.History at 0x7ff6b5d8a150>"
            ]
          },
          "metadata": {},
          "execution_count": 22
        }
      ],
      "source": [
        "cnn.fit(x = training_set, validation_data = test_set, epochs = 25)"
      ]
    },
    {
      "cell_type": "markdown",
      "metadata": {
        "id": "U3PZasO0006Z"
      },
      "source": [
        "## Part 4 - Making a single prediction"
      ]
    },
    {
      "cell_type": "code",
      "execution_count": 25,
      "metadata": {
        "id": "gsSiWEJY1BPB"
      },
      "outputs": [],
      "source": [
        "import numpy as np\n",
        "from keras.preprocessing import image\n",
        "test_image = image.load_img('dataset/single_prediction/cat_or_dog_1.jpg', target_size = (64, 64))\n",
        "test_image = image.img_to_array(test_image)\n",
        "test_image = np.expand_dims(test_image, axis = 0)\n",
        "result = cnn.predict(test_image/255.0)\n",
        "training_set.class_indices\n",
        "if result[0][0] > 0.5:\n",
        "  prediction = 'dog'\n",
        "else:\n",
        "  prediction = 'cat'"
      ]
    },
    {
      "cell_type": "code",
      "execution_count": 26,
      "metadata": {
        "colab": {
          "base_uri": "https://localhost:8080/"
        },
        "id": "ED9KB3I54c1i",
        "outputId": "0874c04d-5202-439a-8700-82841de2dd6b"
      },
      "outputs": [
        {
          "output_type": "stream",
          "name": "stdout",
          "text": [
            "dog\n"
          ]
        }
      ],
      "source": [
        "print(prediction)"
      ]
    },
    {
      "cell_type": "code",
      "source": [
        ""
      ],
      "metadata": {
        "id": "G547Jq-yLmvN"
      },
      "execution_count": null,
      "outputs": []
    }
  ],
  "metadata": {
    "colab": {
      "collapsed_sections": [],
      "name": "convolutional_neural_network.ipynb",
      "provenance": [],
      "include_colab_link": true
    },
    "kernelspec": {
      "display_name": "Python 3",
      "name": "python3"
    }
  },
  "nbformat": 4,
  "nbformat_minor": 0
}